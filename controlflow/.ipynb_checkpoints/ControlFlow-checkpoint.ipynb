{
 "cells": [
  {
   "cell_type": "markdown",
   "metadata": {},
   "source": [
    "## ControlFlow\n",
    "\n",
    "    1.sequencing\n",
    "    2.selection\n",
    "        if-else,if-elif...else\n",
    "    3.Repitition\n",
    "        enumeration controlled loop eg:- for loop\n",
    "        logically controlled loop eg:-while  "
   ]
  },
  {
   "cell_type": "markdown",
   "metadata": {},
   "source": [
    "### Syntax for FOR Loop\n",
    "\n",
    "    for <loop_control_loop> in <container>:\n",
    "    <statements>\n",
    "    \n",
    "    range(start_value,end_value,step_value)"
   ]
  },
  {
   "cell_type": "code",
   "execution_count": 1,
   "metadata": {},
   "outputs": [
    {
     "name": "stdout",
     "output_type": "stream",
     "text": [
      "1\n",
      "3\n",
      "5\n",
      "7\n",
      "9\n",
      "11\n",
      "13\n",
      "15\n",
      "17\n",
      "19\n",
      "21\n",
      "23\n",
      "25\n",
      "27\n",
      "29\n",
      "31\n",
      "33\n",
      "35\n",
      "37\n",
      "39\n",
      "41\n",
      "43\n",
      "45\n",
      "47\n",
      "49\n",
      "51\n",
      "53\n",
      "55\n",
      "57\n",
      "59\n",
      "61\n",
      "63\n",
      "65\n",
      "67\n",
      "69\n",
      "71\n",
      "73\n",
      "75\n",
      "77\n",
      "79\n",
      "81\n",
      "83\n",
      "85\n",
      "87\n",
      "89\n",
      "91\n",
      "93\n",
      "95\n",
      "97\n",
      "99\n"
     ]
    }
   ],
   "source": [
    "for i in range(1,100,2):\n",
    "    print(i)"
   ]
  },
  {
   "cell_type": "code",
   "execution_count": 2,
   "metadata": {},
   "outputs": [
    {
     "name": "stdout",
     "output_type": "stream",
     "text": [
      "0\n",
      "1\n",
      "2\n",
      "3\n",
      "4\n",
      "5\n",
      "6\n",
      "7\n",
      "8\n",
      "9\n"
     ]
    }
   ],
   "source": [
    "for i in range(10):\n",
    "    print(i)"
   ]
  },
  {
   "cell_type": "markdown",
   "metadata": {},
   "source": [
    "## Syntax for While Loop\n",
    "\n",
    "    while <condition> : loop\n",
    "        <statements>"
   ]
  },
  {
   "cell_type": "markdown",
   "metadata": {},
   "source": [
    "###  1.WAP to accept range from user and print all odd numbers in same"
   ]
  },
  {
   "cell_type": "code",
   "execution_count": 3,
   "metadata": {},
   "outputs": [
    {
     "name": "stdout",
     "output_type": "stream",
     "text": [
      "Enter lower bound3\n",
      "Enter upper bound7\n",
      "3\n",
      "5\n"
     ]
    }
   ],
   "source": [
    "low_bound=int(input(\"Enter lower bound\"))\n",
    "upper_bound=int(input(\"Enter upper bound\"))\n",
    "\n",
    "if(low_bound < upper_bound):\n",
    "    for i in range(low_bound,upper_bound):\n",
    "        if(i & 1):\n",
    "            print(i)\n",
    "else:\n",
    "    print(\"Range Entered is out of range\")\n",
    "    "
   ]
  },
  {
   "cell_type": "markdown",
   "metadata": {},
   "source": [
    "### 2.WAP to accept range from user and print sum of odd numbers in given range (homework)"
   ]
  },
  {
   "cell_type": "code",
   "execution_count": 4,
   "metadata": {},
   "outputs": [
    {
     "name": "stdout",
     "output_type": "stream",
     "text": [
      "Enter lower bound1\n",
      "Enter upper bound10\n",
      "25\n"
     ]
    }
   ],
   "source": [
    "low_bound=int(input(\"Enter lower bound\"))\n",
    "upper_bound=int(input(\"Enter upper bound\"))\n",
    "\n",
    "if(low_bound < upper_bound):\n",
    "    sum=0\n",
    "    for i in range(low_bound,upper_bound):\n",
    "        if(i & 1):\n",
    "            sum=sum+i\n",
    "    print(sum)\n",
    "            \n",
    "else:\n",
    "    print(\"Range Entered is out of range\")"
   ]
  },
  {
   "cell_type": "markdown",
   "metadata": {},
   "source": [
    "### 3. WAP to accept range from user and display prime numbers"
   ]
  },
  {
   "cell_type": "code",
   "execution_count": 93,
   "metadata": {
    "collapsed": true
   },
   "outputs": [],
   "source": [
    "import math\n",
    "def check_prime(num):\n",
    "    if num < 0:\n",
    "        num=num*-1\n",
    "    if num%2 ==0:\n",
    "        return False\n",
    "    for i in range(3,int(math.sqrt(num))+1,2):\n",
    "        if(num%i==0):\n",
    "            return False\n",
    "    else:\n",
    "        print(\"is prime\")"
   ]
  },
  {
   "cell_type": "code",
   "execution_count": 94,
   "metadata": {},
   "outputs": [
    {
     "name": "stdout",
     "output_type": "stream",
     "text": [
      "Enter number:-12\n"
     ]
    },
    {
     "data": {
      "text/plain": [
       "False"
      ]
     },
     "execution_count": 94,
     "metadata": {},
     "output_type": "execute_result"
    }
   ],
   "source": [
    "a=int(input(\"Enter number:-\"))\n",
    "check_prime(a)"
   ]
  },
  {
   "cell_type": "markdown",
   "metadata": {},
   "source": [
    "### 4.WAP to perform menu driven arithmatic operations   (sys.exit())"
   ]
  },
  {
   "cell_type": "code",
   "execution_count": 7,
   "metadata": {},
   "outputs": [
    {
     "name": "stdout",
     "output_type": "stream",
     "text": [
      "1.Add\n",
      "2.Subtract\n",
      "3.Multiply\n",
      "4.Divide\n",
      "Enter choice:-1\n",
      "10\n"
     ]
    }
   ],
   "source": [
    "def add(num1,num2):\n",
    "    print(num1+num2)\n",
    "\n",
    "def sub(num1,num2):\n",
    "    if(num1>num2):\n",
    "        print(num1-num2)\n",
    "    else:\n",
    "        print(num2-num1)\n",
    "\n",
    "def mul(num1,num2):\n",
    "    print(num1*num2)\n",
    "\n",
    "def div(num1,num2):\n",
    "    if(num2==0):\n",
    "        print(\"infinity\")\n",
    "    else:\n",
    "        print(num1/num2)\n",
    "\n",
    "\n",
    "\n",
    "print(\"1.Add\")\n",
    "print(\"2.Subtract\")\n",
    "print(\"3.Multiply\")\n",
    "print(\"4.Divide\")\n",
    "\n",
    "choice=int(input(\"Enter choice:-\"))\n",
    "\n",
    "if(choice==1):\n",
    "    add(4,6)\n",
    "elif (choice==2):\n",
    "    sub(5,9)\n",
    "    sub(10,2)\n",
    "elif (choice==3):\n",
    "    mul(6,7)\n",
    "elif (choice==4):\n",
    "    div(4,0)\n",
    "    div(6,3)\n",
    "    \n",
    "    "
   ]
  },
  {
   "cell_type": "markdown",
   "metadata": {},
   "source": [
    "### 5.WAP to accept a string and a character or another string and without using built in count,print the occurence"
   ]
  },
  {
   "cell_type": "code",
   "execution_count": 8,
   "metadata": {},
   "outputs": [
    {
     "name": "stdout",
     "output_type": "stream",
     "text": [
      "Enter String:-ameya\n",
      "Enter character:-a\n"
     ]
    },
    {
     "data": {
      "text/plain": [
       "2"
      ]
     },
     "execution_count": 8,
     "metadata": {},
     "output_type": "execute_result"
    }
   ],
   "source": [
    "str1=str(input(\"Enter String:-\"))\n",
    "str2=input(\"Enter character:-\")\n",
    "\n",
    "def count(str1,str2):\n",
    "    found=0\n",
    "    for i in str1:\n",
    "        if i==str2:\n",
    "            found+=1\n",
    "    return found\n",
    "count(str1,str2)"
   ]
  },
  {
   "cell_type": "markdown",
   "metadata": {},
   "source": [
    "### 6.WAP to accept a string from user and display a string made of first 2 and last 2 characters (use slicing)\n",
    "### 6.1 alternate characters"
   ]
  },
  {
   "cell_type": "code",
   "execution_count": 9,
   "metadata": {},
   "outputs": [
    {
     "name": "stdout",
     "output_type": "stream",
     "text": [
      "Enter string:-ameya\n",
      "amya\n"
     ]
    }
   ],
   "source": [
    "##6\n",
    "str1=input(\"Enter string:-\")\n",
    "\n",
    "ans=str1[:2]+str1[-2:]\n",
    "print(ans)"
   ]
  },
  {
   "cell_type": "code",
   "execution_count": 10,
   "metadata": {},
   "outputs": [
    {
     "name": "stdout",
     "output_type": "stream",
     "text": [
      "Enter string:-ameya\n",
      "aea\n"
     ]
    }
   ],
   "source": [
    "##6.1\n",
    "str1=input(\"Enter string:-\")\n",
    "ans=str1[::2]\n",
    "print(ans)"
   ]
  },
  {
   "cell_type": "markdown",
   "metadata": {},
   "source": [
    "### 7. WAP to accept 2 string from user and swap first 2 characters from each of them"
   ]
  },
  {
   "cell_type": "code",
   "execution_count": 11,
   "metadata": {},
   "outputs": [
    {
     "name": "stdout",
     "output_type": "stream",
     "text": [
      "Enter string:-ameya\n",
      "Enter string:-kale\n",
      "kaeya\n",
      "amle\n"
     ]
    }
   ],
   "source": [
    "str1=input(\"Enter string:-\")\n",
    "str2=input(\"Enter string:-\")\n",
    "\n",
    "swap_str1=str2[:2]+str1[2:]\n",
    "swap_str2=str1[:2]+str2[2:]\n",
    "\n",
    "print(swap_str1)\n",
    "print(swap_str2)\n"
   ]
  },
  {
   "cell_type": "markdown",
   "metadata": {},
   "source": [
    "### 8. WAP to display following pattern \n",
    "        input:- num_rows"
   ]
  },
  {
   "cell_type": "code",
   "execution_count": 11,
   "metadata": {},
   "outputs": [
    {
     "name": "stdout",
     "output_type": "stream",
     "text": [
      "* \n",
      "* * \n",
      "* * * \n"
     ]
    }
   ],
   "source": [
    "#pattern1\n",
    "for i in range(1,4):\n",
    "    for j in range(i):\n",
    "        print(\"*\",end=' ')\n",
    "\n",
    "    print(\"\")"
   ]
  },
  {
   "cell_type": "code",
   "execution_count": 13,
   "metadata": {},
   "outputs": [
    {
     "name": "stdout",
     "output_type": "stream",
     "text": [
      "A\n",
      "AB\n",
      "ABC\n",
      "ABCD\n",
      "ABCDE\n"
     ]
    }
   ],
   "source": [
    "#pattern2\n",
    "for i in range(1,6):\n",
    "    x=65\n",
    "    for j in range(i):\n",
    "        print(chr(x+j),end=\"\")\n",
    "    print(\"\")"
   ]
  },
  {
   "cell_type": "code",
   "execution_count": 74,
   "metadata": {},
   "outputs": [
    {
     "name": "stdout",
     "output_type": "stream",
     "text": [
      "     *\n",
      "    **\n",
      "   ***\n",
      "  ****\n",
      " *****\n"
     ]
    }
   ],
   "source": [
    "#pattern3\n",
    "for i in range(1,6):\n",
    "        for j in range(6-i):\n",
    "                print(\"\",end=\" \")\n",
    "        for k in range (i):\n",
    "                print(\"*\",end=\"\")\n",
    "        print(\"\")"
   ]
  },
  {
   "cell_type": "code",
   "execution_count": 42,
   "metadata": {},
   "outputs": [
    {
     "name": "stdout",
     "output_type": "stream",
     "text": [
      "*****\n",
      "****\n",
      "***\n",
      "**\n",
      "*\n"
     ]
    }
   ],
   "source": [
    "#pattern4\n",
    "for i in range(1,6):\n",
    "    for j in range(6-i):\n",
    "        print(\"*\",end=\"\")\n",
    "    print(\"\")"
   ]
  },
  {
   "cell_type": "code",
   "execution_count": 82,
   "metadata": {},
   "outputs": [
    {
     "name": "stdout",
     "output_type": "stream",
     "text": [
      "     *\n",
      "    ***\n",
      "   *****\n",
      "  *******\n",
      " *********\n"
     ]
    }
   ],
   "source": [
    "#pattern5\n",
    "for i in range(1,6):\n",
    "        for j in range(6-i):\n",
    "                print(\"\",end=\" \")\n",
    "        for k in range (1,2*i):\n",
    "                print(\"*\",end=\"\")\n",
    "        print(\"\")"
   ]
  },
  {
   "cell_type": "code",
   "execution_count": 90,
   "metadata": {},
   "outputs": [
    {
     "name": "stdout",
     "output_type": "stream",
     "text": [
      "\n",
      "\n",
      "\n",
      "\n",
      "\n"
     ]
    }
   ],
   "source": [
    "#pattern5"
   ]
  },
  {
   "cell_type": "markdown",
   "metadata": {},
   "source": [
    "### 9.WAP to accept a number from user and check if palindrome or not"
   ]
  },
  {
   "cell_type": "code",
   "execution_count": null,
   "metadata": {
    "collapsed": true
   },
   "outputs": [],
   "source": [
    "#pattern6\n",
    "for i in range(1,6):\n",
    "        for j in range(6-i):\n",
    "                print(\"\",end=\" \")\n",
    "        for k in range (1,2*i):\n",
    "                print(\"*\",end=\"\")\n",
    "        print(\"\")"
   ]
  },
  {
   "cell_type": "code",
   "execution_count": 12,
   "metadata": {},
   "outputs": [
    {
     "name": "stdout",
     "output_type": "stream",
     "text": [
      "inf\n"
     ]
    }
   ],
   "source": [
    "a=2345\n",
    "rev_no=0\n",
    "\n",
    "while(a>0):\n",
    "    rem=a%10\n",
    "    rev_no=rev_no*10+rem\n",
    "    a/=10\n",
    "print(rev_no)        "
   ]
  },
  {
   "cell_type": "markdown",
   "metadata": {},
   "source": [
    "### 10.WAP to accept string from user and print how many vowels and consonants are present in that string"
   ]
  },
  {
   "cell_type": "code",
   "execution_count": 13,
   "metadata": {},
   "outputs": [
    {
     "name": "stdout",
     "output_type": "stream",
     "text": [
      "Enter String:-ameyakale\n"
     ]
    },
    {
     "data": {
      "text/plain": [
       "(5, 4)"
      ]
     },
     "execution_count": 13,
     "metadata": {},
     "output_type": "execute_result"
    }
   ],
   "source": [
    "str1=str(input(\"Enter String:-\"))\n",
    "a='a'\n",
    "e='e'\n",
    "i='i'\n",
    "o='o'\n",
    "u='u'\n",
    "\n",
    "def count(str1):\n",
    "    found=0\n",
    "    for j in str1:\n",
    "        if j==a or j==e or j==i or j==o or j==u:\n",
    "            found+=1\n",
    "    consonants=len(str1)-found        \n",
    "    return found,consonants\n",
    "count(str1)"
   ]
  }
 ],
 "metadata": {
  "kernelspec": {
   "display_name": "Python 3",
   "language": "python",
   "name": "python3"
  },
  "language_info": {
   "codemirror_mode": {
    "name": "ipython",
    "version": 3
   },
   "file_extension": ".py",
   "mimetype": "text/x-python",
   "name": "python",
   "nbconvert_exporter": "python",
   "pygments_lexer": "ipython3",
   "version": "3.6.3"
  }
 },
 "nbformat": 4,
 "nbformat_minor": 2
}
