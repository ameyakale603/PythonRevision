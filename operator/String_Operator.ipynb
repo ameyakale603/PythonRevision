{
 "cells": [
  {
   "cell_type": "code",
   "execution_count": 12,
   "metadata": {
    "collapsed": true
   },
   "outputs": [],
   "source": [
    "def IsRotation(input_str,validate_str):\n",
    "    if (len(input_str)==len(validate_str)):\n",
    "        return validate_str in input_str+input_str\n",
    "    return False\n",
    "\n",
    "def main():\n",
    "    input_str='india'\n",
    "    validate_str='india'                     #accept input or 2 strings \n",
    "    if IsRotation(input_str,validate_str):\n",
    "        print(\"{} is rotation of {}\".format(validate_str,input_str))\n",
    "    else:\n",
    "        print(\"{1} is not rotation of {0}\".format(input_str,validate_str)) #0 maps to input_str ,1 maps to validate_str "
   ]
  },
  {
   "cell_type": "code",
   "execution_count": 13,
   "metadata": {},
   "outputs": [
    {
     "name": "stdout",
     "output_type": "stream",
     "text": [
      "india is rotation of india\n"
     ]
    }
   ],
   "source": [
    "if __name__=='__main__':\n",
    "    main()"
   ]
  },
  {
   "cell_type": "code",
   "execution_count": null,
   "metadata": {
    "collapsed": true
   },
   "outputs": [],
   "source": []
  }
 ],
 "metadata": {
  "kernelspec": {
   "display_name": "Python 3",
   "language": "python",
   "name": "python3"
  },
  "language_info": {
   "codemirror_mode": {
    "name": "ipython",
    "version": 3
   },
   "file_extension": ".py",
   "mimetype": "text/x-python",
   "name": "python",
   "nbconvert_exporter": "python",
   "pygments_lexer": "ipython3",
   "version": "3.6.3"
  }
 },
 "nbformat": 4,
 "nbformat_minor": 2
}
