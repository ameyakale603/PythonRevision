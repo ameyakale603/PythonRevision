{
 "cells": [
  {
   "cell_type": "markdown",
   "metadata": {},
   "source": [
    "## Operators\n",
    "     1.\tarity:-number of operands  //unary and binary\n",
    "           eg: a+b   // binary\n",
    "\t   eg: !a    //unary\n",
    "\n",
    "     2.  precedance: defines priority\n",
    "\t\tBODMAS rule\n",
    "\n",
    "     \n",
    "     3.  associativity:- two operators  of same priority will be evaluated\n",
    "\t\tright------>left     // unary,compound assignment(combinational assignments),ternary\n",
    "\t\tleft------->right   // all other operators\n",
    "\n",
    "\n",
    "\n",
    "## Arithmatic Operators\n",
    "\n",
    "\t1. Unary:- +,-\n",
    "\t2. Binary:- +,-,*,/,%, **(power)\n",
    "    \n",
    "\n",
    "## Relational Operators\n",
    "\n",
    "    <,>,>=,<=,!=,==\n",
    "  \n",
    "    <> :- Not Equal to     //Return Value is True or False\n",
    "    \n",
    "\n",
    "## Logical Operators (Combination of Relational Operators)\n",
    "\n",
    "    and,or,not\n",
    "    \n",
    "    Operates on whole data // eg:- whole 4 bytes of interger ,not 2 bytes of integer\n",
    "    \n",
    "\n",
    "# Bitwise Operators\n",
    "    \n",
    "     1.Turn off :- &\n",
    "              Used to turn off bits or set of bits\n",
    "              \n",
    "     2.Turn On :- |\n",
    "              Used to turn on bits or set of bits\n",
    "              \n",
    "     3.Toggle :- \n",
    "              Toggle bits or set of bits\n",
    "              \n",
    "     4.Left shift:- <<   //Muliplication of 2's power    \n",
    "    \n",
    "     5.Right Shift:- >> //Division by 2's power\n",
    "     \n",
    "     6.Compliment:- ~\n",
    "     \n",
    "### 2 Types of Shift\n",
    "   ### Sign bit must be preserved in the information\n",
    "    \n",
    "     1.Logical shift (zero comes in from left side)\n",
    "     2.Arithmatic shift(one comes in from left side)\n",
    "     \n",
    "     \n",
    "## Additional Operators added by Python\n",
    "    \n",
    "    1. Membership :- in, not in\n",
    "    2. Identity:- is, is not\n",
    "\t\t"
   ]
  },
  {
   "cell_type": "code",
   "execution_count": 4,
   "metadata": {},
   "outputs": [
    {
     "name": "stdout",
     "output_type": "stream",
     "text": [
      "80\n"
     ]
    }
   ],
   "source": [
    "a=10\n",
    "b=a<<3        //Left Shift\n",
    "print(b)"
   ]
  },
  {
   "cell_type": "code",
   "execution_count": 6,
   "metadata": {},
   "outputs": [
    {
     "name": "stdout",
     "output_type": "stream",
     "text": [
      "10\n"
     ]
    }
   ],
   "source": [
    "a=80\n",
    "b=a>>3        //right shift\n",
    "print(b)"
   ]
  },
  {
   "cell_type": "code",
   "execution_count": 9,
   "metadata": {},
   "outputs": [
    {
     "data": {
      "text/plain": [
       "True"
      ]
     },
     "execution_count": 9,
     "metadata": {},
     "output_type": "execute_result"
    }
   ],
   "source": [
    "'h' in 'hello'     "
   ]
  },
  {
   "cell_type": "code",
   "execution_count": 10,
   "metadata": {},
   "outputs": [
    {
     "data": {
      "text/plain": [
       "True"
      ]
     },
     "execution_count": 10,
     "metadata": {},
     "output_type": "execute_result"
    }
   ],
   "source": [
    "'a' not in 'hello'"
   ]
  },
  {
   "cell_type": "code",
   "execution_count": 15,
   "metadata": {},
   "outputs": [
    {
     "name": "stdout",
     "output_type": "stream",
     "text": [
      "False\n",
      "140500394333968\n",
      "140500394333904\n"
     ]
    }
   ],
   "source": [
    "a=1000\n",
    "b=1000\n",
    "c=a\n",
    "\n",
    "print(a is b )  #id(a)==id(b)\n",
    "print(id(a))\n",
    "print(id(b))"
   ]
  },
  {
   "cell_type": "code",
   "execution_count": 16,
   "metadata": {},
   "outputs": [
    {
     "name": "stdout",
     "output_type": "stream",
     "text": [
      "True\n",
      "140500394332976\n",
      "140500394334064\n"
     ]
    }
   ],
   "source": [
    "a=1000\n",
    "b=1000\n",
    "c=a\n",
    "\n",
    "print(a is c)    # id(a)==id(c)\n",
    "print(id(a))\n",
    "print(id(b))"
   ]
  },
  {
   "cell_type": "code",
   "execution_count": 1,
   "metadata": {},
   "outputs": [
    {
     "data": {
      "text/plain": [
       "32"
      ]
     },
     "execution_count": 1,
     "metadata": {},
     "output_type": "execute_result"
    }
   ],
   "source": [
    "2**5"
   ]
  },
  {
   "cell_type": "code",
   "execution_count": 2,
   "metadata": {},
   "outputs": [
    {
     "data": {
      "text/plain": [
       "2.0"
      ]
     },
     "execution_count": 2,
     "metadata": {},
     "output_type": "execute_result"
    }
   ],
   "source": [
    "5.0//2.0   #floor division"
   ]
  },
  {
   "cell_type": "markdown",
   "metadata": {},
   "source": []
  }
 ],
 "metadata": {
  "kernelspec": {
   "display_name": "Python 3",
   "language": "python",
   "name": "python3"
  },
  "language_info": {
   "codemirror_mode": {
    "name": "ipython",
    "version": 3
   },
   "file_extension": ".py",
   "mimetype": "text/x-python",
   "name": "python",
   "nbconvert_exporter": "python",
   "pygments_lexer": "ipython3",
   "version": "3.6.3"
  }
 },
 "nbformat": 4,
 "nbformat_minor": 2
}
